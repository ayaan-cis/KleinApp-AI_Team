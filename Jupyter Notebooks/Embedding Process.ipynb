{
 "cells": [
  {
   "metadata": {},
   "cell_type": "markdown",
   "source": [
    "# Setting Up an Embedding Database with LLaMA and Zotero Data\n",
    "\n",
    "This notebook will guide you through the steps to:\n",
    "1. Load and preprocess research papers metadata from Zotero.\n",
    "2. Generate embeddings for each document chunk using a local LLaMA model.\n",
    "3. Store these embeddings in a vector database (Chroma) for retrieval.\n",
    "4. Perform similarity-based retrieval on the stored embeddings.\n",
    "\n",
    "### Prerequisites\n",
    "- You need to have a JSON export of your Zotero library.\n",
    "- Ensure that `langchain`, `chromadb`, `faiss-cpu`, and `langchain_ollama` are installed.\n",
    "  \n",
    "Install any missing packages with the following:\n",
    "```python\n",
    "pip install langchain chromadb faiss-cpu \n"
   ],
   "id": "5e837ebf731a48db"
  },
  {
   "metadata": {},
   "cell_type": "code",
   "outputs": [],
   "execution_count": null,
   "source": [
    "# Import necessary libraries\n",
    "import json\n",
    "from langchain_ollama import OllamaEmbeddings\n",
    "from langchain.vectorstores import Chroma\n",
    "from langchain.schema import Document\n"
   ],
   "id": "76c5cc58232b5bf2"
  },
  {
   "metadata": {},
   "cell_type": "markdown",
   "source": [
    "## Step 1: Load and Preprocess Zotero Data\n",
    "\n",
    "Export your Zotero library to a JSON file and provide the file path below. This code will load the JSON file, extract relevant information, and prepare documents for embedding generation.\n"
   ],
   "id": "3c2cc3af7a21117e"
  },
  {
   "metadata": {},
   "cell_type": "code",
   "outputs": [],
   "execution_count": null,
   "source": [
    "# Path to the Zotero JSON data file\n",
    "JSON_FILE_PATH = \"zotero_export.json\"\n",
    "\n",
    "# Load JSON metadata from Zotero\n",
    "def load_zotero_json(file_path):\n",
    "    with open(file_path, 'r') as f:\n",
    "        return json.load(f)\n",
    "\n",
    "# Preprocess documents to extract and structure text\n",
    "def preprocess_documents(data):\n",
    "    documents = []\n",
    "    for item in data:\n",
    "        title = item.get(\"title\", \"Untitled\")\n",
    "        text = item.get(\"abstract\", \"\")  # Use abstract or other text available\n",
    "        documents.append({\"title\": title, \"text\": text})\n",
    "    return documents\n",
    "\n",
    "# Load and preprocess Zotero data\n",
    "zotero_data = load_zotero_json(JSON_FILE_PATH)\n",
    "documents = preprocess_documents(zotero_data)\n",
    "\n",
    "# Display a sample document\n",
    "documents[:1]  # Show the first document as an example\n"
   ],
   "id": "f84c57d7b52f98dc"
  },
  {
   "metadata": {},
   "cell_type": "markdown",
   "source": [
    "## Step 2: Split Text into Chunks for Better Retrieval\n",
    "\n",
    "To improve retrieval precision, split each document into smaller chunks. This will make it easier to search and retrieve relevant sections.\n"
   ],
   "id": "d83f886fb54fd5e5"
  },
  {
   "metadata": {},
   "cell_type": "code",
   "outputs": [],
   "execution_count": null,
   "source": [
    "# Split text into chunks (for better retrieval)\n",
    "def split_text(text, chunk_size=512):\n",
    "    words = text.split()\n",
    "    return [\" \".join(words[i:i + chunk_size]) for i in range(0, len(words), chunk_size)]\n",
    "\n",
    "# Process documents into chunks\n",
    "document_chunks = []\n",
    "for doc in documents:\n",
    "    chunks = split_text(doc['text'])\n",
    "    document_chunks.append({\"title\": doc['title'], \"chunks\": chunks})\n",
    "\n",
    "# Display the first document with chunks\n",
    "document_chunks[:1]\n"
   ],
   "id": "6321b68a713066e4"
  },
  {
   "metadata": {},
   "cell_type": "markdown",
   "source": [
    "## Step 3: Generate Embeddings with LLaMA\n",
    "\n",
    "We will use `OllamaEmbeddings` to generate embeddings for each chunk. Make sure you have a local instance of LLaMA configured.\n"
   ],
   "id": "8e5ef96adf843fc8"
  },
  {
   "metadata": {},
   "cell_type": "code",
   "outputs": [],
   "execution_count": null,
   "source": [
    "# Initialize LLaMA embeddings\n",
    "embedding_model = OllamaEmbeddings(model=\"llama3\")\n",
    "\n",
    "# Generate embeddings for each chunk\n",
    "all_embeddings = []\n",
    "metadata = []\n",
    "\n",
    "for doc in document_chunks:\n",
    "    for chunk in doc['chunks']:\n",
    "        embedding = embedding_model.embed(chunk)\n",
    "        all_embeddings.append(embedding)\n",
    "        metadata.append({\"title\": doc['title'], \"text\": chunk})\n",
    "\n",
    "# Check the number of embeddings created\n",
    "len(all_embeddings), len(metadata)\n"
   ],
   "id": "ca13a9a34ac9400a"
  },
  {
   "metadata": {},
   "cell_type": "markdown",
   "source": [
    "## Step 4: Store Embeddings in Chroma Vector Database\n",
    "\n",
    "We’ll now store the embeddings in a vector database (Chroma), which allows us to perform similarity-based searches.\n"
   ],
   "id": "628e94b2d1aa21e0"
  },
  {
   "metadata": {},
   "cell_type": "code",
   "outputs": [],
   "execution_count": null,
   "source": [
    "# Initialize Chroma vector store to store embeddings\n",
    "vector_store = Chroma.from_embeddings(all_embeddings, metadata=metadata)\n",
    "\n",
    "# Confirm that embeddings are stored in Chroma\n",
    "print(\"Number of documents in vector store:\", len(metadata))\n"
   ],
   "id": "40b908c50d8ec488"
  },
  {
   "metadata": {},
   "cell_type": "markdown",
   "source": [
    "## Step 5: Perform Similarity Search on Stored Embeddings\n",
    "\n",
    "Now, we’ll set up a search function to find the most relevant documents based on a query.\n"
   ],
   "id": "a17783614b73c609"
  },
  {
   "metadata": {},
   "cell_type": "code",
   "outputs": [],
   "execution_count": null,
   "source": [
    "# Retrieval function using similarity search\n",
    "def search(query, embedding_model, vector_store, k=5):\n",
    "    query_embedding = embedding_model.embed(query)\n",
    "    results = vector_store.similarity_search(query_embedding, k=k)\n",
    "    return [{\"title\": res.metadata[\"title\"], \"text\": res.metadata[\"text\"]} for res in results]\n",
    "\n",
    "# Test retrieval with a sample query\n",
    "sample_query = \"What are effective recovery protocols after training?\"\n",
    "results = search(sample_query, embedding_model, vector_store)\n",
    "\n",
    "# Display the search results\n",
    "for result in results:\n",
    "    print(f\"Title: {result['title']}\\nText: {result['text']}\\n\")\n"
   ],
   "id": "bdffd4236a465ebf"
  },
  {
   "metadata": {},
   "cell_type": "markdown",
   "source": "",
   "id": "67b3201105fee2c4"
  }
 ],
 "metadata": {
  "kernelspec": {
   "display_name": "Python 3",
   "language": "python",
   "name": "python3"
  },
  "language_info": {
   "codemirror_mode": {
    "name": "ipython",
    "version": 2
   },
   "file_extension": ".py",
   "mimetype": "text/x-python",
   "name": "python",
   "nbconvert_exporter": "python",
   "pygments_lexer": "ipython2",
   "version": "2.7.6"
  }
 },
 "nbformat": 4,
 "nbformat_minor": 5
}
